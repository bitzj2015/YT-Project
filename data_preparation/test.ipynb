{
 "cells": [
  {
   "cell_type": "code",
   "execution_count": 2,
   "metadata": {},
   "outputs": [],
   "source": [
    "import json\n",
    "import numpy as np\n",
    "import logging\n",
    "import h5py\n",
    "from tqdm import tqdm\n",
    "\n",
    "np.random.seed(0)\n",
    "logging.basicConfig(\n",
    "    filename=\"./logs/log_getdataset.txt\",\n",
    "    filemode='a',\n",
    "    format='%(asctime)s,%(msecs)d %(name)s %(levelname)s %(message)s',\n",
    "    datefmt='%H:%M:%S',\n",
    "    level=logging.INFO\n",
    ")\n",
    "logger=logging.getLogger() \n",
    "logger.setLevel(logging.INFO) \n",
    "\n",
    "VERSION = \"_rl_final_new2_cate_test4\"\n",
    "FILTER = \"\"\n",
    "VERSION = \"_reddit\"\n",
    "FILTER = \"_filter\"\n",
    "with open(f\"../dataset/sock_puppets{VERSION}.json\", \"r\") as json_file:\n",
    "    data = json.load(json_file)[2][\"data\"]\n",
    "\n",
    "with open(f\"../dataset/video_ids{VERSION}.json\", \"r\") as json_file:\n",
    "    video_ids = json.load(json_file)\n",
    "\n",
    "with open(f\"../dataset/category_ids_new.json\", \"r\") as json_file:\n",
    "    cate_ids = json.load(json_file)\n",
    "\n",
    "with open(f\"../dataset/video_metadata{VERSION}.json\", \"r\") as json_file:\n",
    "    video_metadata = json.load(json_file)\n"
   ]
  },
  {
   "cell_type": "code",
   "execution_count": 3,
   "metadata": {},
   "outputs": [
    {
     "name": "stderr",
     "output_type": "stream",
     "text": [
      "100%|██████████| 9939/9939 [00:04<00:00, 2185.28it/s]\n",
      "  0%|          | 0/9939 [00:00<?, ?it/s]"
     ]
    },
    {
     "name": "stdout",
     "output_type": "stream",
     "text": [
      "5590\n",
      "3368\n"
     ]
    },
    {
     "name": "stderr",
     "output_type": "stream",
     "text": [
      " 41%|████      | 4056/9939 [01:14<01:49, 53.83it/s]"
     ]
    }
   ],
   "source": [
    "def sample_false_label(\n",
    "    label: list, \n",
    "    num_labels: int, \n",
    "    max_label_len: int=100\n",
    "):\n",
    "    ret = label\n",
    "    true_label = dict(zip(ret, [0 for _ in range(len(ret))]))\n",
    "    false_label = list(np.random.randint(num_labels, size=max_label_len + 10 * len(label)))\n",
    "\n",
    "    idx = 0\n",
    "    while len(ret) < max_label_len:\n",
    "        if false_label[idx] in true_label.keys():\n",
    "            idx +=1 \n",
    "            continue\n",
    "        ret.append(false_label[idx])\n",
    "        idx += 1\n",
    "    return ret\n",
    "\n",
    "\n",
    "cnt = 0\n",
    "missed_videos = {}\n",
    "input_data_all = []\n",
    "label_data_all = []\n",
    "label_type_data_all = []\n",
    "mask_data_all = []\n",
    "last_label_all = []\n",
    "last_label_p_all = []\n",
    "last_label_type_all = []\n",
    "last_cate_norm_all = []\n",
    "\n",
    "max_label_len = 1000\n",
    "max_trail_len = 40\n",
    "topk_home = 100\n",
    "last_gain = 1\n",
    "initial_home_video_ids = {}\n",
    "unique_home_video_id = {}\n",
    "for i in tqdm(range(len(data))):\n",
    "    initial_home_video_ids.update(dict(zip(data[i][\"initial_homepage\"], [1 for _ in range(len(data[i][\"initial_homepage\"]))])))\n",
    "    video_views = data[i][\"homepage\"]\n",
    "    tmp = {}\n",
    "    for video_view in video_views:\n",
    "        for video_id in video_view:\n",
    "            if video_id in initial_home_video_ids.keys():\n",
    "                continue\n",
    "            if video_id not in unique_home_video_id.keys():\n",
    "                unique_home_video_id[video_id] = 0\n",
    "            if video_id not in tmp.keys():\n",
    "                tmp[video_id] = 1\n",
    "                unique_home_video_id[video_id] += 1\n",
    "            else:\n",
    "                tmp[video_id] = 1\n",
    "print(len(initial_home_video_ids))\n",
    "\n",
    "removed_videos = []\n",
    "for video in unique_home_video_id.keys():\n",
    "    if unique_home_video_id[video] > 0 and unique_home_video_id[video] < 100:\n",
    "        removed_videos.append(video)\n",
    "for video in removed_videos:\n",
    "    del unique_home_video_id[video]\n",
    "\n",
    "print(len(unique_home_video_id))\n",
    "\n",
    "# unique_home_video_id = {}\n",
    "tmp = {}\n",
    "for i in tqdm(range(len(data))):\n",
    "    # try:\n",
    "    input_data = []\n",
    "    mask_data = []\n",
    "\n",
    "    # Get video trails\n",
    "    video_views = data[i][\"viewed\"]\n",
    "    tmp[str(video_views)] = 1\n",
    "    for video_id in video_views:\n",
    "        # if video_id in video_ids.keys():\n",
    "        input_data.append(video_ids[video_id])\n",
    "        mask_data.append(1)\n",
    "\n",
    "    # Append -1 if the length of trail is smaller than max_trail_len\n",
    "    if len(input_data) > 41:\n",
    "        print(len(input_data))\n",
    "    if len(input_data) < max_trail_len:\n",
    "        for _ in range(max_trail_len-len(input_data)):\n",
    "            input_data.append(-1)\n",
    "            mask_data.append(0)\n",
    "\n",
    "    # Get recommended video trails\n",
    "    rec_trails = data[i][\"recommendation_trail\"]\n",
    "    label_data = []\n",
    "    label_type_data = []\n",
    "    for j in range(len(rec_trails)):\n",
    "        label = []\n",
    "        label_type = []\n",
    "        trail = rec_trails[j]\n",
    "\n",
    "        # # Get all the recommended videos each step\n",
    "        # for video_id in trail:\n",
    "        #     label.append(video_ids[video_id])\n",
    "        #     label_type.append(1)\n",
    "        \n",
    "        # Label_type: 0 -> true label, 1 -> false label\n",
    "        label_type += [0 for _ in range(max_label_len-len(label_type))]\n",
    "\n",
    "        # Generate false labels\n",
    "        label = sample_false_label(label, len(video_ids.keys()), max_label_len)\n",
    "        label_data.append(np.array(label))\n",
    "        label_type_data.append(np.array(label_type))\n",
    "\n",
    "    # Get homepage recommendation\n",
    "    home_recs = data[i][\"homepage\"]\n",
    "\n",
    "    # In the last step, we want to predict the homepage videos\n",
    "    last_label = []\n",
    "    last_label_type = []\n",
    "    last_cate = [0.01 for _ in range(len(cate_ids))]\n",
    "    home_video_ids = {}\n",
    "    for home_rec in home_recs:\n",
    "        for video_id in home_rec:\n",
    "            if video_id in initial_home_video_ids.keys():\n",
    "                continue\n",
    "            if video_id in unique_home_video_id.keys():\n",
    "                continue\n",
    "            if video_id not in home_video_ids.keys():\n",
    "                home_video_ids[video_id] = 0\n",
    "            home_video_ids[video_id] += 1\n",
    "\n",
    "    home_video_ids = {k : v for k, v in sorted(home_video_ids.items(), key=lambda item: item[1], reverse=True)}\n",
    "    last_label = [video_ids[video_id] for video_id in list(home_video_ids.keys())[0:topk_home]]\n",
    "    # print(len(last_label))\n",
    "    last_label_p = [value for value in list(home_video_ids.values())[0:topk_home]]\n",
    "    last_label_type = [1 for _ in range(len(last_label))]\n",
    "\n",
    "    for video_id in list(home_video_ids.keys())[0:topk_home]:\n",
    "        try:\n",
    "            last_cate[cate_ids[video_metadata[video_id][\"categories\"]]] += 1\n",
    "        except:\n",
    "            continue\n",
    "    last_cate_norm = [last_cate[i] / sum(last_cate) for i in range(len(last_cate))]\n",
    "    # print(last_cate_norm)\n",
    "\n",
    "    # Label_type: 0 -> true label, 1 -> false label\n",
    "    last_label_type += [0 for _ in range(max_label_len * last_gain - len(last_label_type))]\n",
    "\n",
    "    # Generate false labels\n",
    "    last_label = sample_false_label(last_label, len(video_ids.keys()), max_label_len * last_gain)\n",
    "    last_label_p = [value / sum(last_label_p) for value in last_label_p]\n",
    "    last_label_p += [0 for _ in range(max_label_len * last_gain - len(last_label_p))]\n",
    "    \n",
    "    # Append zero matrix if the length of label list is smaller than max_trail_len\n",
    "    if len(label_data) < max_trail_len:\n",
    "        for _ in range(max_trail_len-len(label_data)):\n",
    "            label_data.append(np.array(label)*0)\n",
    "            label_type_data.append(np.array(label_type)*0)\n",
    "\n",
    "    input_data_all.append(np.array(input_data))\n",
    "    label_data_all.append(np.array(label_data))\n",
    "    label_type_data_all.append(np.array(label_type_data))\n",
    "    mask_data_all.append(np.array(mask_data))\n",
    "    last_label_all.append(np.array(last_label))\n",
    "    last_label_p_all.append(np.array(last_label_p))\n",
    "    last_label_type_all.append(np.array(last_label_type))\n",
    "    last_cate_norm_all.append(np.array(last_cate_norm))\n",
    "\n",
    "    # except:\n",
    "    #     cnt += 1\n",
    "    \n",
    "logger.info(\"Missing {} trails.\".format(cnt))\n",
    "\n"
   ]
  },
  {
   "cell_type": "code",
   "execution_count": null,
   "metadata": {},
   "outputs": [
    {
     "ename": "NameError",
     "evalue": "name 'cate_ids' is not defined",
     "output_type": "error",
     "traceback": [
      "\u001b[0;31m---------------------------------------------------------------------------\u001b[0m",
      "\u001b[0;31mNameError\u001b[0m                                 Traceback (most recent call last)",
      "\u001b[0;32m<ipython-input-1-38d9f483ea49>\u001b[0m in \u001b[0;36m<module>\u001b[0;34m\u001b[0m\n\u001b[0;32m----> 1\u001b[0;31m \u001b[0mprint\u001b[0m\u001b[0;34m(\u001b[0m\u001b[0mcate_ids\u001b[0m\u001b[0;34m)\u001b[0m\u001b[0;34m\u001b[0m\u001b[0;34m\u001b[0m\u001b[0m\n\u001b[0m\u001b[1;32m      2\u001b[0m \u001b[0mprint\u001b[0m\u001b[0;34m(\u001b[0m\u001b[0mlast_cate_norm_all\u001b[0m\u001b[0;34m[\u001b[0m\u001b[0;36m4\u001b[0m\u001b[0;34m]\u001b[0m\u001b[0;34m)\u001b[0m\u001b[0;34m\u001b[0m\u001b[0;34m\u001b[0m\u001b[0m\n",
      "\u001b[0;31mNameError\u001b[0m: name 'cate_ids' is not defined"
     ]
    }
   ],
   "source": [
    "print(cate_ids)\n",
    "print(last_cate_norm_all[4])"
   ]
  },
  {
   "cell_type": "code",
   "execution_count": 1,
   "metadata": {},
   "outputs": [
    {
     "name": "stdout",
     "output_type": "stream",
     "text": [
      "No. of videos: 127085\n"
     ]
    }
   ],
   "source": []
  },
  {
   "cell_type": "code",
   "execution_count": null,
   "metadata": {},
   "outputs": [
    {
     "name": "stderr",
     "output_type": "stream",
     "text": [
      "100%|██████████| 127085/127085 [00:00<00:00, 593451.20it/s]\n"
     ]
    }
   ],
   "source": []
  },
  {
   "cell_type": "code",
   "execution_count": null,
   "metadata": {},
   "outputs": [
    {
     "data": {
      "text/plain": [
       "[<matplotlib.lines.Line2D at 0x7f81e559b9b0>]"
      ]
     },
     "execution_count": 6,
     "metadata": {},
     "output_type": "execute_result"
    },
    {
     "data": {
      "image/png": "[encoded data removed]",
      "text/plain": [
       "<Figure size 432x288 with 1 Axes>"
      ]
     },
     "metadata": {
      "needs_background": "light"
     },
     "output_type": "display_data"
    }
   ],
   "source": []
  },
  {
   "cell_type": "code",
   "execution_count": 20,
   "metadata": {},
   "outputs": [
    {
     "name": "stdout",
     "output_type": "stream",
     "text": [
      "815\n"
     ]
    }
   ],
   "source": []
  },
  {
   "cell_type": "code",
   "execution_count": null,
   "metadata": {},
   "outputs": [
    {
     "ename": "DatabaseError",
     "evalue": "2003 (HY000): Can't connect to MySQL server on '127.0.0.1:3306' (111)",
     "output_type": "error",
     "traceback": [
      "\u001b[0;31m---------------------------------------------------------------------------\u001b[0m",
      "\u001b[0;31mMySQLInterfaceError\u001b[0m                       Traceback (most recent call last)",
      "\u001b[0;32m~/anaconda3/envs/ML/lib/python3.6/site-packages/mysql/connector/connection_cext.py\u001b[0m in \u001b[0;36m_open_connection\u001b[0;34m(self)\u001b[0m\n\u001b[1;32m    238\u001b[0m         \u001b[0;32mtry\u001b[0m\u001b[0;34m:\u001b[0m\u001b[0;34m\u001b[0m\u001b[0;34m\u001b[0m\u001b[0m\n\u001b[0;32m--> 239\u001b[0;31m             \u001b[0mself\u001b[0m\u001b[0;34m.\u001b[0m\u001b[0m_cmysql\u001b[0m\u001b[0;34m.\u001b[0m\u001b[0mconnect\u001b[0m\u001b[0;34m(\u001b[0m\u001b[0;34m**\u001b[0m\u001b[0mcnx_kwargs\u001b[0m\u001b[0;34m)\u001b[0m\u001b[0;34m\u001b[0m\u001b[0;34m\u001b[0m\u001b[0m\n\u001b[0m\u001b[1;32m    240\u001b[0m         \u001b[0;32mexcept\u001b[0m \u001b[0mMySQLInterfaceError\u001b[0m \u001b[0;32mas\u001b[0m \u001b[0mexc\u001b[0m\u001b[0;34m:\u001b[0m\u001b[0;34m\u001b[0m\u001b[0;34m\u001b[0m\u001b[0m\n",
      "\u001b[0;31mMySQLInterfaceError\u001b[0m: Can't connect to MySQL server on '127.0.0.1:3306' (111)",
      "\nDuring handling of the above exception, another exception occurred:\n",
      "\u001b[0;31mDatabaseError\u001b[0m                             Traceback (most recent call last)",
      "\u001b[0;32m<ipython-input-2-7465b017ca55>\u001b[0m in \u001b[0;36m<module>\u001b[0;34m\u001b[0m\n\u001b[1;32m      2\u001b[0m \u001b[0;34m\u001b[0m\u001b[0m\n\u001b[1;32m      3\u001b[0m mydb = mysql.connector.connect(\n\u001b[0;32m----> 4\u001b[0;31m   \u001b[0muser\u001b[0m\u001b[0;34m=\u001b[0m\u001b[0;34m\"jiangzha\"\u001b[0m\u001b[0;34m\u001b[0m\u001b[0;34m\u001b[0m\u001b[0m\n\u001b[0m\u001b[1;32m      5\u001b[0m )\n\u001b[1;32m      6\u001b[0m \u001b[0;34m\u001b[0m\u001b[0m\n",
      "\u001b[0;32m~/anaconda3/envs/ML/lib/python3.6/site-packages/mysql/connector/__init__.py\u001b[0m in \u001b[0;36mconnect\u001b[0;34m(*args, **kwargs)\u001b[0m\n\u001b[1;32m    270\u001b[0m \u001b[0;34m\u001b[0m\u001b[0m\n\u001b[1;32m    271\u001b[0m     \u001b[0;32mif\u001b[0m \u001b[0mHAVE_CEXT\u001b[0m \u001b[0;32mand\u001b[0m \u001b[0;32mnot\u001b[0m \u001b[0muse_pure\u001b[0m\u001b[0;34m:\u001b[0m\u001b[0;34m\u001b[0m\u001b[0;34m\u001b[0m\u001b[0m\n\u001b[0;32m--> 272\u001b[0;31m         \u001b[0;32mreturn\u001b[0m \u001b[0mCMySQLConnection\u001b[0m\u001b[0;34m(\u001b[0m\u001b[0;34m*\u001b[0m\u001b[0margs\u001b[0m\u001b[0;34m,\u001b[0m \u001b[0;34m**\u001b[0m\u001b[0mkwargs\u001b[0m\u001b[0;34m)\u001b[0m\u001b[0;34m\u001b[0m\u001b[0;34m\u001b[0m\u001b[0m\n\u001b[0m\u001b[1;32m    273\u001b[0m     \u001b[0;32mreturn\u001b[0m \u001b[0mMySQLConnection\u001b[0m\u001b[0;34m(\u001b[0m\u001b[0;34m*\u001b[0m\u001b[0margs\u001b[0m\u001b[0;34m,\u001b[0m \u001b[0;34m**\u001b[0m\u001b[0mkwargs\u001b[0m\u001b[0;34m)\u001b[0m\u001b[0;34m\u001b[0m\u001b[0;34m\u001b[0m\u001b[0m\n\u001b[1;32m    274\u001b[0m \u001b[0mConnect\u001b[0m \u001b[0;34m=\u001b[0m \u001b[0mconnect\u001b[0m  \u001b[0;31m# pylint: disable=C0103\u001b[0m\u001b[0;34m\u001b[0m\u001b[0;34m\u001b[0m\u001b[0m\n",
      "\u001b[0;32m~/anaconda3/envs/ML/lib/python3.6/site-packages/mysql/connector/connection_cext.py\u001b[0m in \u001b[0;36m__init__\u001b[0;34m(self, **kwargs)\u001b[0m\n\u001b[1;32m     83\u001b[0m \u001b[0;34m\u001b[0m\u001b[0m\n\u001b[1;32m     84\u001b[0m         \u001b[0;32mif\u001b[0m \u001b[0mkwargs\u001b[0m\u001b[0;34m:\u001b[0m\u001b[0;34m\u001b[0m\u001b[0;34m\u001b[0m\u001b[0m\n\u001b[0;32m---> 85\u001b[0;31m             \u001b[0mself\u001b[0m\u001b[0;34m.\u001b[0m\u001b[0mconnect\u001b[0m\u001b[0;34m(\u001b[0m\u001b[0;34m**\u001b[0m\u001b[0mkwargs\u001b[0m\u001b[0;34m)\u001b[0m\u001b[0;34m\u001b[0m\u001b[0;34m\u001b[0m\u001b[0m\n\u001b[0m\u001b[1;32m     86\u001b[0m \u001b[0;34m\u001b[0m\u001b[0m\n\u001b[1;32m     87\u001b[0m     \u001b[0;32mdef\u001b[0m \u001b[0m_add_default_conn_attrs\u001b[0m\u001b[0;34m(\u001b[0m\u001b[0mself\u001b[0m\u001b[0;34m)\u001b[0m\u001b[0;34m:\u001b[0m\u001b[0;34m\u001b[0m\u001b[0;34m\u001b[0m\u001b[0m\n",
      "\u001b[0;32m~/anaconda3/envs/ML/lib/python3.6/site-packages/mysql/connector/abstracts.py\u001b[0m in \u001b[0;36mconnect\u001b[0;34m(self, **kwargs)\u001b[0m\n\u001b[1;32m   1007\u001b[0m \u001b[0;34m\u001b[0m\u001b[0m\n\u001b[1;32m   1008\u001b[0m         \u001b[0mself\u001b[0m\u001b[0;34m.\u001b[0m\u001b[0mdisconnect\u001b[0m\u001b[0;34m(\u001b[0m\u001b[0;34m)\u001b[0m\u001b[0;34m\u001b[0m\u001b[0;34m\u001b[0m\u001b[0m\n\u001b[0;32m-> 1009\u001b[0;31m         \u001b[0mself\u001b[0m\u001b[0;34m.\u001b[0m\u001b[0m_open_connection\u001b[0m\u001b[0;34m(\u001b[0m\u001b[0;34m)\u001b[0m\u001b[0;34m\u001b[0m\u001b[0;34m\u001b[0m\u001b[0m\n\u001b[0m\u001b[1;32m   1010\u001b[0m         \u001b[0;31m# Server does not allow to run any other statement different from ALTER\u001b[0m\u001b[0;34m\u001b[0m\u001b[0;34m\u001b[0m\u001b[0;34m\u001b[0m\u001b[0m\n\u001b[1;32m   1011\u001b[0m         \u001b[0;31m# when user's password has been expired.\u001b[0m\u001b[0;34m\u001b[0m\u001b[0;34m\u001b[0m\u001b[0;34m\u001b[0m\u001b[0m\n",
      "\u001b[0;32m~/anaconda3/envs/ML/lib/python3.6/site-packages/mysql/connector/connection_cext.py\u001b[0m in \u001b[0;36m_open_connection\u001b[0;34m(self)\u001b[0m\n\u001b[1;32m    240\u001b[0m         \u001b[0;32mexcept\u001b[0m \u001b[0mMySQLInterfaceError\u001b[0m \u001b[0;32mas\u001b[0m \u001b[0mexc\u001b[0m\u001b[0;34m:\u001b[0m\u001b[0;34m\u001b[0m\u001b[0;34m\u001b[0m\u001b[0m\n\u001b[1;32m    241\u001b[0m             raise errors.get_mysql_exception(msg=exc.msg, errno=exc.errno,\n\u001b[0;32m--> 242\u001b[0;31m                                              sqlstate=exc.sqlstate)\n\u001b[0m\u001b[1;32m    243\u001b[0m \u001b[0;34m\u001b[0m\u001b[0m\n\u001b[1;32m    244\u001b[0m         \u001b[0mself\u001b[0m\u001b[0;34m.\u001b[0m\u001b[0m_do_handshake\u001b[0m\u001b[0;34m(\u001b[0m\u001b[0;34m)\u001b[0m\u001b[0;34m\u001b[0m\u001b[0;34m\u001b[0m\u001b[0m\n",
      "\u001b[0;31mDatabaseError\u001b[0m: 2003 (HY000): Can't connect to MySQL server on '127.0.0.1:3306' (111)"
     ]
    }
   ],
   "source": []
  }
 ],
 "metadata": {
  "interpreter": {
   "hash": "db49eb46ace8fd3e72d445b97ac59d797d72ee2375aa491976a1dc667ef9a232"
  },
  "kernelspec": {
   "display_name": "Python 3.6.12 64-bit ('ML': conda)",
   "language": "python",
   "name": "python3"
  },
  "language_info": {
   "codemirror_mode": {
    "name": "ipython",
    "version": 3
   },
   "file_extension": ".py",
   "mimetype": "text/x-python",
   "name": "python",
   "nbconvert_exporter": "python",
   "pygments_lexer": "ipython3",
   "version": "3.6.12"
  },
  "orig_nbformat": 2
 },
 "nbformat": 4,
 "nbformat_minor": 2
}
